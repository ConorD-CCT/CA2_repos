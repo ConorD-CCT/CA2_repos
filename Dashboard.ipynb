{
 "cells": [
  {
   "cell_type": "markdown",
   "id": "c671c33d",
   "metadata": {},
   "source": [
    "## Interactive Dashboard\n",
    "An interactive dashboard is produced to display the results of the analysis on crop yield in Europe. A choropleth is displayed for Europe, with the user being able to switch between countries and year.\n",
    "\n",
    "Note: I found that, in order to run this repeatedly, the kernal needs to be restarted."
   ]
  },
  {
   "cell_type": "code",
   "execution_count": null,
   "id": "96e8b0e3",
   "metadata": {},
   "outputs": [],
   "source": [
    "# Import libraries\n",
    "import pandas as pd\n",
    "import pycountry"
   ]
  },
  {
   "cell_type": "code",
   "execution_count": null,
   "id": "f50093e3",
   "metadata": {},
   "outputs": [],
   "source": [
    "df = pd.read_csv('cropProduction.csv')"
   ]
  },
  {
   "cell_type": "code",
   "execution_count": null,
   "id": "f9a6db2f",
   "metadata": {},
   "outputs": [],
   "source": [
    "\n",
    "\n",
    "def getCodes(countries):\n",
    "    codes = []\n",
    "    \n",
    "    for country in countries:\n",
    "        country_obj = pycountry.countries.get(name=country)\n",
    "        \n",
    "        # Extract the alpha-3 code from the country object\n",
    "        code = country_obj.alpha_3\n",
    "          \n",
    "        codes.append(code)\n",
    "    return codes "
   ]
  },
  {
   "cell_type": "code",
   "execution_count": null,
   "id": "90d28a2f",
   "metadata": {},
   "outputs": [],
   "source": [
    "import plotly.graph_objs as go\n",
    "import plotly.express as px\n",
    "import dash\n",
    "from dash import html\n",
    "from dash import dcc\n",
    "\n",
    "\n",
    "# Data\n",
    "cols_dd = [\"Barley\", \"Wheat\", \"Potatoes\"]\n",
    "\n",
    "app = dash.Dash()\n",
    "\n",
    "app.layout = html.Div([\n",
    "    dcc.Dropdown(\n",
    "        id='demo-dropdown',\n",
    "        options=[{'label': k, 'value': k} for k in cols_dd],\n",
    "        value=cols_dd[0]\n",
    "    ),\n",
    "    dcc.Dropdown(\n",
    "        id='year-dropdown',\n",
    "        options=[{'label': str(year), 'value': year} for year in range(2003,2021)],\n",
    "        value=2019\n",
    "    ),\n",
    "    html.Hr(),\n",
    "    dcc.Graph(id='display-selected-values'),\n",
    "\n",
    "])\n",
    "\n",
    "@app.callback(\n",
    "    dash.dependencies.Output('display-selected-values', 'figure'),\n",
    "    [dash.dependencies.Input('demo-dropdown', 'value'),\n",
    "     dash.dependencies.Input('year-dropdown', 'value')])\n",
    "\n",
    "def update_output(crop,year):\n",
    "    yieldd = df[(df[\"Element\"] == 'Yield') & (df['Item'] == crop) & (df['Year'] == year)]\n",
    "\n",
    "    fig = px.choropleth(yieldd,\n",
    "                         locations=getCodes(yieldd['Area']),\n",
    "                         color='Value',\n",
    "                         hover_name='Area',\n",
    "                         width=1600,height=800)\n",
    "                        \n",
    "    fig.update_layout(\n",
    "        title_text=crop+' yield in '+str(year),\n",
    "        title_x=0.5,\n",
    "        geo_scope='europe',\n",
    "       \n",
    "        autosize=True)\n",
    "    \n",
    "    return fig\n",
    "\n",
    "if __name__ == '__main__':\n",
    "    app.run_server()"
   ]
  },
  {
   "cell_type": "code",
   "execution_count": null,
   "id": "cedac366",
   "metadata": {},
   "outputs": [],
   "source": []
  }
 ],
 "metadata": {
  "kernelspec": {
   "display_name": "Python 3 (ipykernel)",
   "language": "python",
   "name": "python3"
  },
  "language_info": {
   "codemirror_mode": {
    "name": "ipython",
    "version": 3
   },
   "file_extension": ".py",
   "mimetype": "text/x-python",
   "name": "python",
   "nbconvert_exporter": "python",
   "pygments_lexer": "ipython3",
   "version": "3.9.12"
  }
 },
 "nbformat": 4,
 "nbformat_minor": 5
}
