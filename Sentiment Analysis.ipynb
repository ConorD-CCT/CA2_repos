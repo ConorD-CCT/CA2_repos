{
 "cells": [
  {
   "cell_type": "code",
   "execution_count": null,
   "id": "38337420",
   "metadata": {},
   "outputs": [],
   "source": []
  },
  {
   "cell_type": "code",
   "execution_count": 2,
   "id": "cbd40224",
   "metadata": {},
   "outputs": [
    {
     "name": "stderr",
     "output_type": "stream",
     "text": [
      "[nltk_data] Downloading package punkt to\n",
      "[nltk_data]     C:\\Users\\cdillon\\AppData\\Roaming\\nltk_data...\n",
      "[nltk_data]   Package punkt is already up-to-date!\n"
     ]
    },
    {
     "name": "stdout",
     "output_type": "stream",
     "text": [
      "Overall sentiment of the document: 0.00497832\n"
     ]
    }
   ],
   "source": [
    "import PyPDF2\n",
    "from textblob import TextBlob\n",
    "import nltk\n",
    "#nltk.download('punkt')\n",
    "\n",
    "stopwords = ['the','a','and']\n",
    "\n",
    "# Open the PDF file and extract the text\n",
    "with open('../CA2/Annual Review and Outlook for Agriculture, Food and the Marine 2022.pdf', 'rb') as f:\n",
    "    pdf = PyPDF2.PdfReader(f)\n",
    "    text = '\\n'.join([pdf.pages[page_num].extract_text() for page_num in range(len(pdf.pages))])\n",
    "\n",
    "# Tokenize the text and remove stop words\n",
    "tokens = [word for word in TextBlob(text).words if word.lower() not in stopwords]\n",
    "\n",
    "# Calculate the sentiment of each word and the overall sentiment of the document\n",
    "sentiments = [TextBlob(word).sentiment.polarity for word in tokens]\n",
    "overall_sentiment = sum(sentiments) / len(sentiments)\n",
    "\n",
    "print(f'Overall sentiment of the document: {overall_sentiment:.8f}')\n"
   ]
  },
  {
   "cell_type": "code",
   "execution_count": 12,
   "id": "ec07b9ad",
   "metadata": {},
   "outputs": [
    {
     "name": "stdout",
     "output_type": "stream",
     "text": [
      "0.05054426481906642\n",
      "                                              Sentences    Scores\n",
      "0     Annual Review \\nand Outlook for \\nAgriculture,...  0.000000\n",
      "1     My Department’s Annual Review and Outlook for ...  0.000000\n",
      "2     It provides an in-depth overview of the sector...  0.000000\n",
      "3     It is an analysis of yet another challenging t...  0.250000\n",
      "4     Once again, we have seen the resilience of our...  0.000000\n",
      "...                                                 ...       ...\n",
      "2969  246\\nAnnual Review and Outlook  for Agricultur... -0.016667\n",
      "2970  Annual Review and Outlook  for Agriculture, Fo...  0.000000\n",
      "2971  Where these anomalies are identified, the Depa...  0.000000\n",
      "2972  Acknowledgement\\nEconomics and Planning Divisi...  0.122222\n",
      "2973  248\\nAnnual Review and Outlook  for Agricultur...  0.000000\n",
      "\n",
      "[2974 rows x 2 columns]\n"
     ]
    }
   ],
   "source": [
    "import io\n",
    "import re\n",
    "import nltk\n",
    "import textblob\n",
    "import PyPDF2\n",
    "import statistics\n",
    "import pandas as pd\n",
    "\n",
    "def get_sentiment_scores(pdf_path):\n",
    "  # Open the PDF file and extract the text\n",
    "  with open(pdf_path, 'rb') as f:\n",
    "    pdf_reader = PyPDF2.PdfReader(f)\n",
    "    text = \"\"\n",
    "    for page in range(len(pdf_reader.pages)):\n",
    "      text += pdf_reader.pages[page].extract_text()\n",
    "  \n",
    "  # Split the text into sentences\n",
    "  sent_detector = nltk.data.load('tokenizers/punkt/english.pickle')\n",
    "  sentences = sent_detector.tokenize(text)\n",
    "  \n",
    "  # Get the sentiment scores for each sentence\n",
    "  scores = []\n",
    "  scoresDF = pd.DataFrame()\n",
    "  for sentence in sentences:\n",
    "    sentiment = textblob.TextBlob(sentence).sentiment.polarity\n",
    "    scores.append(sentiment)\n",
    "  scoresDF['Sentences'] = sentences\n",
    "  scoresDF['Scores'] = scores\n",
    "    \n",
    "\n",
    "  return statistics.mean(scores),scoresDF\n",
    "\n",
    "print(get_sentiment_scores('../CA2/Annual Review and Outlook for Agriculture, Food and the Marine 2022.pdf')[0])\n",
    "print(get_sentiment_scores('../CA2/Annual Review and Outlook for Agriculture, Food and the Marine 2022.pdf')[1])"
   ]
  },
  {
   "cell_type": "code",
   "execution_count": null,
   "id": "b1750811",
   "metadata": {},
   "outputs": [],
   "source": []
  },
  {
   "cell_type": "code",
   "execution_count": null,
   "id": "1d7d1cbb",
   "metadata": {},
   "outputs": [],
   "source": []
  }
 ],
 "metadata": {
  "kernelspec": {
   "display_name": "Python 3 (ipykernel)",
   "language": "python",
   "name": "python3"
  },
  "language_info": {
   "codemirror_mode": {
    "name": "ipython",
    "version": 3
   },
   "file_extension": ".py",
   "mimetype": "text/x-python",
   "name": "python",
   "nbconvert_exporter": "python",
   "pygments_lexer": "ipython3",
   "version": "3.9.12"
  }
 },
 "nbformat": 4,
 "nbformat_minor": 5
}
